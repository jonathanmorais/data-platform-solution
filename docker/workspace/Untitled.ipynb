{
 "cells": [
  {
   "cell_type": "code",
   "execution_count": 61,
   "metadata": {},
   "outputs": [],
   "source": [
    "import pandas as pd\n",
    "import matplotlib.pyplot as plt\n",
    "import seaborn as sns\n",
    "import boto3\n",
    "import os\n",
    "import time\n",
    "import io\n",
    "import pyathena as cz\n",
    "from pyathena.pandas_cursor import PandasCursor\n",
    "import sklearn\n",
    "from sklearn.model_selection import train_test_split\n",
    "from sklearn.naive_bayes import GaussianNB\n",
    "from sklearn.linear_model import LogisticRegression"
   ]
  },
  {
   "cell_type": "code",
   "execution_count": 2,
   "metadata": {},
   "outputs": [],
   "source": [
    "# s3 = boto3.resource('s3')\n",
    "athena_conection = \"athena.us-east-1.amazonaws.com\"\n",
    "region_name = ('us-east-1')\n",
    "db = \"ml_platform_events\""
   ]
  },
  {
   "cell_type": "code",
   "execution_count": 3,
   "metadata": {},
   "outputs": [],
   "source": [
    "athena_client   = boto3.client('athena', region_name='us-east-1', aws_access_key_id=os.environ['ACCESS_KEY'],\n",
    "                            aws_secret_access_key=os.environ['ACCESS_SECRET_KEY'])\n",
    "\n",
    "s3_resource   = boto3.resource('s3', region_name='us-east-1', aws_access_key_id=os.environ['ACCESS_KEY'],\n",
    "                            aws_secret_access_key=os.environ['ACCESS_SECRET_KEY'])"
   ]
  },
  {
   "cell_type": "code",
   "execution_count": 4,
   "metadata": {},
   "outputs": [],
   "source": [
    "def athena_query_to_dataframe(db, query):\n",
    "    \n",
    "    listOfStatus = ['SUCCEEDED', 'FAILED', 'CANCELLED']\n",
    "    listOfInitialStatus = ['RUNNING', 'QUEUED']\n",
    "    \n",
    "    print('Starting Query Execution:')\n",
    "       \n",
    "    response = athena_client.start_query_execution(\n",
    "        QueryString = query,\n",
    "        QueryExecutionContext = {\n",
    "            'Database': db\n",
    "        },\n",
    "        ResultConfiguration = {\n",
    "            'OutputLocation': 's3://personal-us-east-1/query-result/',\n",
    "        }\n",
    "    )\n",
    "\n",
    "    queryExecutionId = response['QueryExecutionId']\n",
    "\n",
    "    status = athena_client.get_query_execution(QueryExecutionId = queryExecutionId)['QueryExecution']['Status']['State']\n",
    "\n",
    "    while status in listOfInitialStatus:\n",
    "        status = athena_client.get_query_execution(QueryExecutionId = queryExecutionId)['QueryExecution']['Status']['State']\n",
    "        if status in listOfStatus:\n",
    "            if status == 'SUCCEEDED':\n",
    "                print('Query Succeeded!')\n",
    "                paginator = athena_client.get_paginator('get_query_results')\n",
    "                query_results = paginator.paginate(\n",
    "                    QueryExecutionId = queryExecutionId,\n",
    "                    PaginationConfig = {'PageSize': 1000}\n",
    "                )\n",
    "            elif status == 'FAILED':\n",
    "                print('Query Failed!')\n",
    "            elif status == 'CANCELLED':\n",
    "                print('Query Cancelled!')\n",
    "            break\n",
    "    \n",
    "    results = []\n",
    "    rows = []\n",
    "    \n",
    "    print('Processing Response')\n",
    "    \n",
    "    for page in query_results:\n",
    "        for row in page['ResultSet']['Rows']:\n",
    "            rows.append(row['Data'])\n",
    "\n",
    "    columns = rows[0]\n",
    "    rows = rows[1:]\n",
    "\n",
    "    columns_list = []\n",
    "    for column in columns:\n",
    "        columns_list.append(column['VarCharValue'])\n",
    "        \n",
    "    print('Creating Dataframe')\n",
    "\n",
    "    dataframe = pd.DataFrame(columns = columns_list)\n",
    "\n",
    "    for row in rows:\n",
    "        df_row = []\n",
    "        for data in row:\n",
    "            df_row.append(data['VarCharValue'])\n",
    "        dataframe.loc[len(dataframe)] = df_row\n",
    "    \n",
    "        \n",
    "    print('Done!')\n",
    "    \n",
    "    return(dataframe)"
   ]
  },
  {
   "cell_type": "code",
   "execution_count": 5,
   "metadata": {},
   "outputs": [
    {
     "name": "stdout",
     "output_type": "stream",
     "text": [
      "Starting Query Execution:\n"
     ]
    },
    {
     "ename": "ClientError",
     "evalue": "An error occurred (UnrecognizedClientException) when calling the StartQueryExecution operation: The security token included in the request is invalid.",
     "output_type": "error",
     "traceback": [
      "\u001b[0;31m---------------------------------------------------------------------------\u001b[0m",
      "\u001b[0;31mClientError\u001b[0m                               Traceback (most recent call last)",
      "\u001b[0;32m<ipython-input-5-928a73e5bdf5>\u001b[0m in \u001b[0;36m<module>\u001b[0;34m\u001b[0m\n\u001b[0;32m----> 1\u001b[0;31m \u001b[0mdf\u001b[0m \u001b[0;34m=\u001b[0m \u001b[0mathena_query_to_dataframe\u001b[0m\u001b[0;34m(\u001b[0m\u001b[0mdb\u001b[0m\u001b[0;34m,\u001b[0m \u001b[0;34m\"select * from ml_platform_events.event_punkapi\"\u001b[0m\u001b[0;34m)\u001b[0m\u001b[0;34m\u001b[0m\u001b[0;34m\u001b[0m\u001b[0m\n\u001b[0m",
      "\u001b[0;32m<ipython-input-4-1f521a043fef>\u001b[0m in \u001b[0;36mathena_query_to_dataframe\u001b[0;34m(db, query)\u001b[0m\n\u001b[1;32m     12\u001b[0m         },\n\u001b[1;32m     13\u001b[0m         ResultConfiguration = {\n\u001b[0;32m---> 14\u001b[0;31m             \u001b[0;34m'OutputLocation'\u001b[0m\u001b[0;34m:\u001b[0m \u001b[0;34m's3://personal-us-east-1/query-result/'\u001b[0m\u001b[0;34m,\u001b[0m\u001b[0;34m\u001b[0m\u001b[0;34m\u001b[0m\u001b[0m\n\u001b[0m\u001b[1;32m     15\u001b[0m         }\n\u001b[1;32m     16\u001b[0m     )\n",
      "\u001b[0;32m/opt/conda/lib/python3.6/site-packages/botocore/client.py\u001b[0m in \u001b[0;36m_api_call\u001b[0;34m(self, *args, **kwargs)\u001b[0m\n\u001b[1;32m    355\u001b[0m                     \"%s() only accepts keyword arguments.\" % py_operation_name)\n\u001b[1;32m    356\u001b[0m             \u001b[0;31m# The \"self\" in this scope is referring to the BaseClient.\u001b[0m\u001b[0;34m\u001b[0m\u001b[0;34m\u001b[0m\u001b[0;34m\u001b[0m\u001b[0m\n\u001b[0;32m--> 357\u001b[0;31m             \u001b[0;32mreturn\u001b[0m \u001b[0mself\u001b[0m\u001b[0;34m.\u001b[0m\u001b[0m_make_api_call\u001b[0m\u001b[0;34m(\u001b[0m\u001b[0moperation_name\u001b[0m\u001b[0;34m,\u001b[0m \u001b[0mkwargs\u001b[0m\u001b[0;34m)\u001b[0m\u001b[0;34m\u001b[0m\u001b[0;34m\u001b[0m\u001b[0m\n\u001b[0m\u001b[1;32m    358\u001b[0m \u001b[0;34m\u001b[0m\u001b[0m\n\u001b[1;32m    359\u001b[0m         \u001b[0m_api_call\u001b[0m\u001b[0;34m.\u001b[0m\u001b[0m__name__\u001b[0m \u001b[0;34m=\u001b[0m \u001b[0mstr\u001b[0m\u001b[0;34m(\u001b[0m\u001b[0mpy_operation_name\u001b[0m\u001b[0;34m)\u001b[0m\u001b[0;34m\u001b[0m\u001b[0;34m\u001b[0m\u001b[0m\n",
      "\u001b[0;32m/opt/conda/lib/python3.6/site-packages/botocore/client.py\u001b[0m in \u001b[0;36m_make_api_call\u001b[0;34m(self, operation_name, api_params)\u001b[0m\n\u001b[1;32m    674\u001b[0m             \u001b[0merror_code\u001b[0m \u001b[0;34m=\u001b[0m \u001b[0mparsed_response\u001b[0m\u001b[0;34m.\u001b[0m\u001b[0mget\u001b[0m\u001b[0;34m(\u001b[0m\u001b[0;34m\"Error\"\u001b[0m\u001b[0;34m,\u001b[0m \u001b[0;34m{\u001b[0m\u001b[0;34m}\u001b[0m\u001b[0;34m)\u001b[0m\u001b[0;34m.\u001b[0m\u001b[0mget\u001b[0m\u001b[0;34m(\u001b[0m\u001b[0;34m\"Code\"\u001b[0m\u001b[0;34m)\u001b[0m\u001b[0;34m\u001b[0m\u001b[0;34m\u001b[0m\u001b[0m\n\u001b[1;32m    675\u001b[0m             \u001b[0merror_class\u001b[0m \u001b[0;34m=\u001b[0m \u001b[0mself\u001b[0m\u001b[0;34m.\u001b[0m\u001b[0mexceptions\u001b[0m\u001b[0;34m.\u001b[0m\u001b[0mfrom_code\u001b[0m\u001b[0;34m(\u001b[0m\u001b[0merror_code\u001b[0m\u001b[0;34m)\u001b[0m\u001b[0;34m\u001b[0m\u001b[0;34m\u001b[0m\u001b[0m\n\u001b[0;32m--> 676\u001b[0;31m             \u001b[0;32mraise\u001b[0m \u001b[0merror_class\u001b[0m\u001b[0;34m(\u001b[0m\u001b[0mparsed_response\u001b[0m\u001b[0;34m,\u001b[0m \u001b[0moperation_name\u001b[0m\u001b[0;34m)\u001b[0m\u001b[0;34m\u001b[0m\u001b[0;34m\u001b[0m\u001b[0m\n\u001b[0m\u001b[1;32m    677\u001b[0m         \u001b[0;32melse\u001b[0m\u001b[0;34m:\u001b[0m\u001b[0;34m\u001b[0m\u001b[0;34m\u001b[0m\u001b[0m\n\u001b[1;32m    678\u001b[0m             \u001b[0;32mreturn\u001b[0m \u001b[0mparsed_response\u001b[0m\u001b[0;34m\u001b[0m\u001b[0;34m\u001b[0m\u001b[0m\n",
      "\u001b[0;31mClientError\u001b[0m: An error occurred (UnrecognizedClientException) when calling the StartQueryExecution operation: The security token included in the request is invalid."
     ]
    }
   ],
   "source": [
    "df = athena_query_to_dataframe(db, \"select * from ml_platform_events.event_punkapi\")"
   ]
  },
  {
   "cell_type": "code",
   "execution_count": 130,
   "metadata": {},
   "outputs": [
    {
     "data": {
      "text/html": [
       "<div>\n",
       "<style scoped>\n",
       "    .dataframe tbody tr th:only-of-type {\n",
       "        vertical-align: middle;\n",
       "    }\n",
       "\n",
       "    .dataframe tbody tr th {\n",
       "        vertical-align: top;\n",
       "    }\n",
       "\n",
       "    .dataframe thead th {\n",
       "        text-align: right;\n",
       "    }\n",
       "</style>\n",
       "<table border=\"1\" class=\"dataframe\">\n",
       "  <thead>\n",
       "    <tr style=\"text-align: right;\">\n",
       "      <th></th>\n",
       "      <th>name</th>\n",
       "      <th>abv</th>\n",
       "      <th>ibu</th>\n",
       "      <th>target_fg</th>\n",
       "      <th>target_og</th>\n",
       "      <th>ebc</th>\n",
       "      <th>srm</th>\n",
       "      <th>ph</th>\n",
       "    </tr>\n",
       "  </thead>\n",
       "  <tbody>\n",
       "    <tr>\n",
       "      <th>0</th>\n",
       "      <td>Galaxy</td>\n",
       "      <td>6.7</td>\n",
       "      <td>67.0</td>\n",
       "      <td>1064</td>\n",
       "      <td>1013</td>\n",
       "      <td>19.0</td>\n",
       "      <td>9.50</td>\n",
       "      <td>4.4</td>\n",
       "    </tr>\n",
       "    <tr>\n",
       "      <th>1</th>\n",
       "      <td>10 Heads High</td>\n",
       "      <td>7.8</td>\n",
       "      <td>70.0</td>\n",
       "      <td>1015</td>\n",
       "      <td>1074</td>\n",
       "      <td>90.0</td>\n",
       "      <td>45.00</td>\n",
       "      <td>4.4</td>\n",
       "    </tr>\n",
       "    <tr>\n",
       "      <th>2</th>\n",
       "      <td>Lumberjack Stout</td>\n",
       "      <td>15.2</td>\n",
       "      <td>20.0</td>\n",
       "      <td>1020</td>\n",
       "      <td>1110</td>\n",
       "      <td>158.0</td>\n",
       "      <td>79.00</td>\n",
       "      <td>4.4</td>\n",
       "    </tr>\n",
       "    <tr>\n",
       "      <th>3</th>\n",
       "      <td>Neon Overlord</td>\n",
       "      <td>7.6</td>\n",
       "      <td>70.0</td>\n",
       "      <td>1012</td>\n",
       "      <td>1067</td>\n",
       "      <td>20.0</td>\n",
       "      <td>10.00</td>\n",
       "      <td>4.4</td>\n",
       "    </tr>\n",
       "    <tr>\n",
       "      <th>4</th>\n",
       "      <td>Ship Wreck</td>\n",
       "      <td>13.8</td>\n",
       "      <td>60.0</td>\n",
       "      <td>1015</td>\n",
       "      <td>1088</td>\n",
       "      <td>25.0</td>\n",
       "      <td>13.00</td>\n",
       "      <td>4.4</td>\n",
       "    </tr>\n",
       "    <tr>\n",
       "      <th>5</th>\n",
       "      <td>Crew Brew</td>\n",
       "      <td>8.0</td>\n",
       "      <td>100.0</td>\n",
       "      <td>1011</td>\n",
       "      <td>1072</td>\n",
       "      <td>28.0</td>\n",
       "      <td>14.20</td>\n",
       "      <td>5.2</td>\n",
       "    </tr>\n",
       "    <tr>\n",
       "      <th>6</th>\n",
       "      <td>The End Of History</td>\n",
       "      <td>55.0</td>\n",
       "      <td>NaN</td>\n",
       "      <td>1000</td>\n",
       "      <td>1112</td>\n",
       "      <td>NaN</td>\n",
       "      <td>NaN</td>\n",
       "      <td>4.4</td>\n",
       "    </tr>\n",
       "    <tr>\n",
       "      <th>7</th>\n",
       "      <td>Movember</td>\n",
       "      <td>4.5</td>\n",
       "      <td>50.0</td>\n",
       "      <td>1012</td>\n",
       "      <td>1047</td>\n",
       "      <td>140.0</td>\n",
       "      <td>70.00</td>\n",
       "      <td>5.2</td>\n",
       "    </tr>\n",
       "    <tr>\n",
       "      <th>8</th>\n",
       "      <td>Sunmaid Stout</td>\n",
       "      <td>10.2</td>\n",
       "      <td>50.0</td>\n",
       "      <td>1102</td>\n",
       "      <td>1026</td>\n",
       "      <td>197.0</td>\n",
       "      <td>100.00</td>\n",
       "      <td>4.4</td>\n",
       "    </tr>\n",
       "    <tr>\n",
       "      <th>9</th>\n",
       "      <td>AB:07</td>\n",
       "      <td>12.5</td>\n",
       "      <td>30.0</td>\n",
       "      <td>1020</td>\n",
       "      <td>1106</td>\n",
       "      <td>84.0</td>\n",
       "      <td>42.00</td>\n",
       "      <td>5.6</td>\n",
       "    </tr>\n",
       "    <tr>\n",
       "      <th>10</th>\n",
       "      <td>Cocoa Psycho</td>\n",
       "      <td>10.0</td>\n",
       "      <td>85.0</td>\n",
       "      <td>1012</td>\n",
       "      <td>1098</td>\n",
       "      <td>30.0</td>\n",
       "      <td>15.25</td>\n",
       "      <td>4.4</td>\n",
       "    </tr>\n",
       "    <tr>\n",
       "      <th>11</th>\n",
       "      <td>Prototype Double IPA</td>\n",
       "      <td>8.5</td>\n",
       "      <td>60.0</td>\n",
       "      <td>1007</td>\n",
       "      <td>1073</td>\n",
       "      <td>15.0</td>\n",
       "      <td>8.00</td>\n",
       "      <td>4.2</td>\n",
       "    </tr>\n",
       "    <tr>\n",
       "      <th>12</th>\n",
       "      <td>Paradox Islay 2018</td>\n",
       "      <td>13.5</td>\n",
       "      <td>100.0</td>\n",
       "      <td>1015</td>\n",
       "      <td>1112</td>\n",
       "      <td>300.0</td>\n",
       "      <td>152.00</td>\n",
       "      <td>4.4</td>\n",
       "    </tr>\n",
       "    <tr>\n",
       "      <th>13</th>\n",
       "      <td>Restorative Beverage For Invalids And Convales...</td>\n",
       "      <td>8.5</td>\n",
       "      <td>100.0</td>\n",
       "      <td>1003</td>\n",
       "      <td>1068</td>\n",
       "      <td>15.0</td>\n",
       "      <td>7.50</td>\n",
       "      <td>4.4</td>\n",
       "    </tr>\n",
       "    <tr>\n",
       "      <th>14</th>\n",
       "      <td>Stereo Wolf Stout - Prototype Challenge</td>\n",
       "      <td>5.2</td>\n",
       "      <td>55.0</td>\n",
       "      <td>1014</td>\n",
       "      <td>1052</td>\n",
       "      <td>200.0</td>\n",
       "      <td>100.00</td>\n",
       "      <td>5.2</td>\n",
       "    </tr>\n",
       "  </tbody>\n",
       "</table>\n",
       "</div>"
      ],
      "text/plain": [
       "                                                 name   abv    ibu  target_fg  \\\n",
       "0                                              Galaxy   6.7   67.0       1064   \n",
       "1                                       10 Heads High   7.8   70.0       1015   \n",
       "2                                    Lumberjack Stout  15.2   20.0       1020   \n",
       "3                                       Neon Overlord   7.6   70.0       1012   \n",
       "4                                          Ship Wreck  13.8   60.0       1015   \n",
       "5                                           Crew Brew   8.0  100.0       1011   \n",
       "6                                  The End Of History  55.0    NaN       1000   \n",
       "7                                            Movember   4.5   50.0       1012   \n",
       "8                                       Sunmaid Stout  10.2   50.0       1102   \n",
       "9                                               AB:07  12.5   30.0       1020   \n",
       "10                                       Cocoa Psycho  10.0   85.0       1012   \n",
       "11                               Prototype Double IPA   8.5   60.0       1007   \n",
       "12                                 Paradox Islay 2018  13.5  100.0       1015   \n",
       "13  Restorative Beverage For Invalids And Convales...   8.5  100.0       1003   \n",
       "14            Stereo Wolf Stout - Prototype Challenge   5.2   55.0       1014   \n",
       "\n",
       "    target_og    ebc     srm   ph  \n",
       "0        1013   19.0    9.50  4.4  \n",
       "1        1074   90.0   45.00  4.4  \n",
       "2        1110  158.0   79.00  4.4  \n",
       "3        1067   20.0   10.00  4.4  \n",
       "4        1088   25.0   13.00  4.4  \n",
       "5        1072   28.0   14.20  5.2  \n",
       "6        1112    NaN     NaN  4.4  \n",
       "7        1047  140.0   70.00  5.2  \n",
       "8        1026  197.0  100.00  4.4  \n",
       "9        1106   84.0   42.00  5.6  \n",
       "10       1098   30.0   15.25  4.4  \n",
       "11       1073   15.0    8.00  4.2  \n",
       "12       1112  300.0  152.00  4.4  \n",
       "13       1068   15.0    7.50  4.4  \n",
       "14       1052  200.0  100.00  5.2  "
      ]
     },
     "execution_count": 130,
     "metadata": {},
     "output_type": "execute_result"
    }
   ],
   "source": [
    "df.head(1000)"
   ]
  },
  {
   "cell_type": "code",
   "execution_count": 20,
   "metadata": {},
   "outputs": [],
   "source": [
    "df = pd.read_csv(\"beers.csv\")\n",
    "# df = df.drop(['index', 'id'], axis=1)\n",
    "# df.round({'abv':2})"
   ]
  },
  {
   "cell_type": "code",
   "execution_count": 8,
   "metadata": {},
   "outputs": [],
   "source": [
    "df.dropna().to_csv(\"beers.csv\")"
   ]
  },
  {
   "cell_type": "code",
   "execution_count": 114,
   "metadata": {},
   "outputs": [
    {
     "data": {
      "text/html": [
       "<div>\n",
       "<style scoped>\n",
       "    .dataframe tbody tr th:only-of-type {\n",
       "        vertical-align: middle;\n",
       "    }\n",
       "\n",
       "    .dataframe tbody tr th {\n",
       "        vertical-align: top;\n",
       "    }\n",
       "\n",
       "    .dataframe thead th {\n",
       "        text-align: right;\n",
       "    }\n",
       "</style>\n",
       "<table border=\"1\" class=\"dataframe\">\n",
       "  <thead>\n",
       "    <tr style=\"text-align: right;\">\n",
       "      <th></th>\n",
       "      <th>name</th>\n",
       "      <th>abv</th>\n",
       "      <th>ibu</th>\n",
       "      <th>target_fg</th>\n",
       "      <th>target_og</th>\n",
       "      <th>ebc</th>\n",
       "      <th>srm</th>\n",
       "      <th>ph</th>\n",
       "    </tr>\n",
       "  </thead>\n",
       "  <tbody>\n",
       "    <tr>\n",
       "      <th>0</th>\n",
       "      <td>Galaxy</td>\n",
       "      <td>6.7</td>\n",
       "      <td>67.0</td>\n",
       "      <td>1064</td>\n",
       "      <td>1013</td>\n",
       "      <td>19</td>\n",
       "      <td>9.5</td>\n",
       "      <td>4.4</td>\n",
       "    </tr>\n",
       "    <tr>\n",
       "      <th>1</th>\n",
       "      <td>10 Heads High</td>\n",
       "      <td>7.8</td>\n",
       "      <td>70.0</td>\n",
       "      <td>1015</td>\n",
       "      <td>1074</td>\n",
       "      <td>90</td>\n",
       "      <td>45.0</td>\n",
       "      <td>4.4</td>\n",
       "    </tr>\n",
       "    <tr>\n",
       "      <th>2</th>\n",
       "      <td>Lumberjack Stout</td>\n",
       "      <td>15.2</td>\n",
       "      <td>20.0</td>\n",
       "      <td>1020</td>\n",
       "      <td>1110</td>\n",
       "      <td>158</td>\n",
       "      <td>79.0</td>\n",
       "      <td>4.4</td>\n",
       "    </tr>\n",
       "    <tr>\n",
       "      <th>3</th>\n",
       "      <td>Neon Overlord</td>\n",
       "      <td>7.6</td>\n",
       "      <td>70.0</td>\n",
       "      <td>1012</td>\n",
       "      <td>1067</td>\n",
       "      <td>20</td>\n",
       "      <td>10.0</td>\n",
       "      <td>4.4</td>\n",
       "    </tr>\n",
       "    <tr>\n",
       "      <th>4</th>\n",
       "      <td>Ship Wreck</td>\n",
       "      <td>13.8</td>\n",
       "      <td>60.0</td>\n",
       "      <td>1015</td>\n",
       "      <td>1088</td>\n",
       "      <td>25</td>\n",
       "      <td>13.0</td>\n",
       "      <td>4.4</td>\n",
       "    </tr>\n",
       "  </tbody>\n",
       "</table>\n",
       "</div>"
      ],
      "text/plain": [
       "               name   abv   ibu  target_fg  target_og  ebc   srm   ph\n",
       "0            Galaxy   6.7  67.0       1064       1013   19   9.5  4.4\n",
       "1     10 Heads High   7.8  70.0       1015       1074   90  45.0  4.4\n",
       "2  Lumberjack Stout  15.2  20.0       1020       1110  158  79.0  4.4\n",
       "3     Neon Overlord   7.6  70.0       1012       1067   20  10.0  4.4\n",
       "4        Ship Wreck  13.8  60.0       1015       1088   25  13.0  4.4"
      ]
     },
     "execution_count": 114,
     "metadata": {},
     "output_type": "execute_result"
    }
   ],
   "source": [
    "## convert\n",
    "\n",
    "df[\"ibu\"] = pd.to_numeric(df[\"ibu\"], downcast=\"float\")\n",
    "df[\"abv\"] = pd.to_numeric(df[\"abv\"], downcast=\"float\")\n",
    "df[\"target_fg\"] = pd.to_numeric(df[\"target_fg\"], downcast=\"integer\")\n",
    "df[\"target_og\"] = pd.to_numeric(df[\"target_og\"], downcast=\"integer\")\n",
    "df[\"ebc\"] = pd.to_numeric(df[\"ebc\"], downcast=\"integer\")\n",
    "df[\"srm\"] = pd.to_numeric(df[\"srm\"], downcast=\"integer\")\n",
    "df[\"ph\"] = pd.to_numeric(df[\"ph\"], downcast=\"float\")\n",
    "df = df.loc[:, ~df.columns.str.contains('^Unnamed')]\n",
    "\n",
    "\n",
    "df.dtypes\n",
    "df.head()"
   ]
  },
  {
   "cell_type": "code",
   "execution_count": 115,
   "metadata": {},
   "outputs": [],
   "source": [
    "df.dropna(inplace=True)"
   ]
  },
  {
   "cell_type": "code",
   "execution_count": 116,
   "metadata": {},
   "outputs": [
    {
     "ename": "KeyError",
     "evalue": "'[ (6.699999809265137, 7.800000190734863, 15.199999809265137, 7.599999904632568, 13.800000190734863, 8.0, 4.5, 10.199999809265137, 12.5, 10.0, 8.5, 13.5, 8.5, 5.199999809265137)\\n (1064, 1015, 1020, 1012, 1015, 1011, 1012, 1102, 1020, 1012, 1007, 1015, 1003, 1014)\\n (1013, 1074, 1110, 1067, 1088, 1072, 1047, 1026, 1106, 1098, 1073, 1112, 1068, 1052)\\n (19, 90, 158, 20, 25, 28, 140, 197, 84, 30, 15, 300, 15, 200)\\n (9.5, 45.0, 79.0, 10.0, 13.0, 14.199999809265135, 70.0, 100.0, 42.0, 15.25, 8.0, 152.0, 7.5, 100.0)\\n (4.400000095367432, 4.400000095367432, 4.400000095367432, 4.400000095367432, 4.400000095367432, 5.199999809265137, 5.199999809265137, 4.400000095367432, 5.599999904632568, 4.400000095367432, 4.199999809265137, 4.400000095367432, 4.400000095367432, 5.199999809265137)] not in index'",
     "output_type": "error",
     "traceback": [
      "\u001b[0;31m---------------------------------------------------------------------------\u001b[0m",
      "\u001b[0;31mKeyError\u001b[0m                                  Traceback (most recent call last)",
      "\u001b[0;32m<ipython-input-116-a59fded3a553>\u001b[0m in \u001b[0;36m<module>\u001b[0;34m\u001b[0m\n\u001b[1;32m      1\u001b[0m \u001b[0;31m## seperar train e test\u001b[0m\u001b[0;34m\u001b[0m\u001b[0;34m\u001b[0m\u001b[0;34m\u001b[0m\u001b[0m\n\u001b[1;32m      2\u001b[0m \u001b[0mfeatures\u001b[0m \u001b[0;34m=\u001b[0m \u001b[0;34m[\u001b[0m\u001b[0mdf\u001b[0m\u001b[0;34m[\u001b[0m\u001b[0;34m\"abv\"\u001b[0m\u001b[0;34m]\u001b[0m\u001b[0;34m,\u001b[0m\u001b[0mdf\u001b[0m\u001b[0;34m[\u001b[0m\u001b[0;34m'target_fg'\u001b[0m\u001b[0;34m]\u001b[0m\u001b[0;34m,\u001b[0m  \u001b[0mdf\u001b[0m\u001b[0;34m[\u001b[0m\u001b[0;34m'target_og'\u001b[0m\u001b[0;34m]\u001b[0m\u001b[0;34m,\u001b[0m\u001b[0mdf\u001b[0m\u001b[0;34m[\u001b[0m\u001b[0;34m'ebc'\u001b[0m\u001b[0;34m]\u001b[0m\u001b[0;34m,\u001b[0m \u001b[0mdf\u001b[0m\u001b[0;34m[\u001b[0m\u001b[0;34m'srm'\u001b[0m\u001b[0;34m]\u001b[0m\u001b[0;34m,\u001b[0m\u001b[0mdf\u001b[0m\u001b[0;34m[\u001b[0m\u001b[0;34m'ph'\u001b[0m\u001b[0;34m]\u001b[0m\u001b[0;34m]\u001b[0m\u001b[0;34m\u001b[0m\u001b[0;34m\u001b[0m\u001b[0m\n\u001b[0;32m----> 3\u001b[0;31m \u001b[0mX\u001b[0m \u001b[0;34m=\u001b[0m \u001b[0mdf\u001b[0m\u001b[0;34m[\u001b[0m\u001b[0mfeatures\u001b[0m\u001b[0;34m]\u001b[0m \u001b[0;31m## features\u001b[0m\u001b[0;34m\u001b[0m\u001b[0;34m\u001b[0m\u001b[0m\n\u001b[0m\u001b[1;32m      4\u001b[0m \u001b[0my\u001b[0m \u001b[0;34m=\u001b[0m \u001b[0mdf\u001b[0m\u001b[0;34m.\u001b[0m\u001b[0mlabel\u001b[0m \u001b[0;31m## target\u001b[0m\u001b[0;34m\u001b[0m\u001b[0;34m\u001b[0m\u001b[0m\n",
      "\u001b[0;32m/opt/conda/lib/python3.6/site-packages/pandas/core/frame.py\u001b[0m in \u001b[0;36m__getitem__\u001b[0;34m(self, key)\u001b[0m\n\u001b[1;32m   2680\u001b[0m         \u001b[0;32mif\u001b[0m \u001b[0misinstance\u001b[0m\u001b[0;34m(\u001b[0m\u001b[0mkey\u001b[0m\u001b[0;34m,\u001b[0m \u001b[0;34m(\u001b[0m\u001b[0mSeries\u001b[0m\u001b[0;34m,\u001b[0m \u001b[0mnp\u001b[0m\u001b[0;34m.\u001b[0m\u001b[0mndarray\u001b[0m\u001b[0;34m,\u001b[0m \u001b[0mIndex\u001b[0m\u001b[0;34m,\u001b[0m \u001b[0mlist\u001b[0m\u001b[0;34m)\u001b[0m\u001b[0;34m)\u001b[0m\u001b[0;34m:\u001b[0m\u001b[0;34m\u001b[0m\u001b[0;34m\u001b[0m\u001b[0m\n\u001b[1;32m   2681\u001b[0m             \u001b[0;31m# either boolean or fancy integer index\u001b[0m\u001b[0;34m\u001b[0m\u001b[0;34m\u001b[0m\u001b[0;34m\u001b[0m\u001b[0m\n\u001b[0;32m-> 2682\u001b[0;31m             \u001b[0;32mreturn\u001b[0m \u001b[0mself\u001b[0m\u001b[0;34m.\u001b[0m\u001b[0m_getitem_array\u001b[0m\u001b[0;34m(\u001b[0m\u001b[0mkey\u001b[0m\u001b[0;34m)\u001b[0m\u001b[0;34m\u001b[0m\u001b[0;34m\u001b[0m\u001b[0m\n\u001b[0m\u001b[1;32m   2683\u001b[0m         \u001b[0;32melif\u001b[0m \u001b[0misinstance\u001b[0m\u001b[0;34m(\u001b[0m\u001b[0mkey\u001b[0m\u001b[0;34m,\u001b[0m \u001b[0mDataFrame\u001b[0m\u001b[0;34m)\u001b[0m\u001b[0;34m:\u001b[0m\u001b[0;34m\u001b[0m\u001b[0;34m\u001b[0m\u001b[0m\n\u001b[1;32m   2684\u001b[0m             \u001b[0;32mreturn\u001b[0m \u001b[0mself\u001b[0m\u001b[0;34m.\u001b[0m\u001b[0m_getitem_frame\u001b[0m\u001b[0;34m(\u001b[0m\u001b[0mkey\u001b[0m\u001b[0;34m)\u001b[0m\u001b[0;34m\u001b[0m\u001b[0;34m\u001b[0m\u001b[0m\n",
      "\u001b[0;32m/opt/conda/lib/python3.6/site-packages/pandas/core/frame.py\u001b[0m in \u001b[0;36m_getitem_array\u001b[0;34m(self, key)\u001b[0m\n\u001b[1;32m   2724\u001b[0m             \u001b[0;32mreturn\u001b[0m \u001b[0mself\u001b[0m\u001b[0;34m.\u001b[0m\u001b[0m_take\u001b[0m\u001b[0;34m(\u001b[0m\u001b[0mindexer\u001b[0m\u001b[0;34m,\u001b[0m \u001b[0maxis\u001b[0m\u001b[0;34m=\u001b[0m\u001b[0;36m0\u001b[0m\u001b[0;34m)\u001b[0m\u001b[0;34m\u001b[0m\u001b[0;34m\u001b[0m\u001b[0m\n\u001b[1;32m   2725\u001b[0m         \u001b[0;32melse\u001b[0m\u001b[0;34m:\u001b[0m\u001b[0;34m\u001b[0m\u001b[0;34m\u001b[0m\u001b[0m\n\u001b[0;32m-> 2726\u001b[0;31m             \u001b[0mindexer\u001b[0m \u001b[0;34m=\u001b[0m \u001b[0mself\u001b[0m\u001b[0;34m.\u001b[0m\u001b[0mloc\u001b[0m\u001b[0;34m.\u001b[0m\u001b[0m_convert_to_indexer\u001b[0m\u001b[0;34m(\u001b[0m\u001b[0mkey\u001b[0m\u001b[0;34m,\u001b[0m \u001b[0maxis\u001b[0m\u001b[0;34m=\u001b[0m\u001b[0;36m1\u001b[0m\u001b[0;34m)\u001b[0m\u001b[0;34m\u001b[0m\u001b[0;34m\u001b[0m\u001b[0m\n\u001b[0m\u001b[1;32m   2727\u001b[0m             \u001b[0;32mreturn\u001b[0m \u001b[0mself\u001b[0m\u001b[0;34m.\u001b[0m\u001b[0m_take\u001b[0m\u001b[0;34m(\u001b[0m\u001b[0mindexer\u001b[0m\u001b[0;34m,\u001b[0m \u001b[0maxis\u001b[0m\u001b[0;34m=\u001b[0m\u001b[0;36m1\u001b[0m\u001b[0;34m)\u001b[0m\u001b[0;34m\u001b[0m\u001b[0;34m\u001b[0m\u001b[0m\n\u001b[1;32m   2728\u001b[0m \u001b[0;34m\u001b[0m\u001b[0m\n",
      "\u001b[0;32m/opt/conda/lib/python3.6/site-packages/pandas/core/indexing.py\u001b[0m in \u001b[0;36m_convert_to_indexer\u001b[0;34m(self, obj, axis, is_setter)\u001b[0m\n\u001b[1;32m   1325\u001b[0m                 \u001b[0;32mif\u001b[0m \u001b[0mmask\u001b[0m\u001b[0;34m.\u001b[0m\u001b[0many\u001b[0m\u001b[0;34m(\u001b[0m\u001b[0;34m)\u001b[0m\u001b[0;34m:\u001b[0m\u001b[0;34m\u001b[0m\u001b[0;34m\u001b[0m\u001b[0m\n\u001b[1;32m   1326\u001b[0m                     raise KeyError('{mask} not in index'\n\u001b[0;32m-> 1327\u001b[0;31m                                    .format(mask=objarr[mask]))\n\u001b[0m\u001b[1;32m   1328\u001b[0m \u001b[0;34m\u001b[0m\u001b[0m\n\u001b[1;32m   1329\u001b[0m                 \u001b[0;32mreturn\u001b[0m \u001b[0mcom\u001b[0m\u001b[0;34m.\u001b[0m\u001b[0m_values_from_object\u001b[0m\u001b[0;34m(\u001b[0m\u001b[0mindexer\u001b[0m\u001b[0;34m)\u001b[0m\u001b[0;34m\u001b[0m\u001b[0;34m\u001b[0m\u001b[0m\n",
      "\u001b[0;31mKeyError\u001b[0m: '[ (6.699999809265137, 7.800000190734863, 15.199999809265137, 7.599999904632568, 13.800000190734863, 8.0, 4.5, 10.199999809265137, 12.5, 10.0, 8.5, 13.5, 8.5, 5.199999809265137)\\n (1064, 1015, 1020, 1012, 1015, 1011, 1012, 1102, 1020, 1012, 1007, 1015, 1003, 1014)\\n (1013, 1074, 1110, 1067, 1088, 1072, 1047, 1026, 1106, 1098, 1073, 1112, 1068, 1052)\\n (19, 90, 158, 20, 25, 28, 140, 197, 84, 30, 15, 300, 15, 200)\\n (9.5, 45.0, 79.0, 10.0, 13.0, 14.199999809265135, 70.0, 100.0, 42.0, 15.25, 8.0, 152.0, 7.5, 100.0)\\n (4.400000095367432, 4.400000095367432, 4.400000095367432, 4.400000095367432, 4.400000095367432, 5.199999809265137, 5.199999809265137, 4.400000095367432, 5.599999904632568, 4.400000095367432, 4.199999809265137, 4.400000095367432, 4.400000095367432, 5.199999809265137)] not in index'"
     ]
    }
   ],
   "source": [
    "## seperar train e test\n",
    "features = [df[\"abv\"],df['target_fg'],\tdf['target_og'],df['ebc'], df['srm'],df['ph']]\n",
    "X = df[features] ## features\n",
    "y = df.label ## target"
   ]
  },
  {
   "cell_type": "code",
   "execution_count": 103,
   "metadata": {},
   "outputs": [
    {
     "data": {
      "text/plain": [
       "0    67.0\n",
       "1    70.0\n",
       "2    20.0\n",
       "3    70.0\n",
       "4    60.0\n",
       "Name: ibu, dtype: float32"
      ]
     },
     "execution_count": 103,
     "metadata": {},
     "output_type": "execute_result"
    }
   ],
   "source": [
    "X.head()\n"
   ]
  },
  {
   "cell_type": "code",
   "execution_count": 104,
   "metadata": {},
   "outputs": [
    {
     "data": {
      "text/plain": [
       "14"
      ]
     },
     "execution_count": 104,
     "metadata": {},
     "output_type": "execute_result"
    }
   ],
   "source": [
    "len(y)"
   ]
  },
  {
   "cell_type": "code",
   "execution_count": 105,
   "metadata": {},
   "outputs": [],
   "source": [
    "X_train, X_test, y_train, y_test = train_test_split(X, y, test_size=0.33)"
   ]
  },
  {
   "cell_type": "code",
   "execution_count": 106,
   "metadata": {},
   "outputs": [],
   "source": [
    "X_train = X_train.values.reshape(-1, 1)"
   ]
  },
  {
   "cell_type": "code",
   "execution_count": 107,
   "metadata": {},
   "outputs": [],
   "source": [
    "X_test = X_test.values.reshape(-1, 1)"
   ]
  },
  {
   "cell_type": "code",
   "execution_count": 108,
   "metadata": {},
   "outputs": [],
   "source": [
    "logisticRegr = LogisticRegression()"
   ]
  },
  {
   "cell_type": "code",
   "execution_count": 109,
   "metadata": {},
   "outputs": [
    {
     "name": "stderr",
     "output_type": "stream",
     "text": [
      "/opt/conda/lib/python3.6/site-packages/sklearn/linear_model/logistic.py:433: FutureWarning: Default solver will be changed to 'lbfgs' in 0.22. Specify a solver to silence this warning.\n",
      "  FutureWarning)\n",
      "/opt/conda/lib/python3.6/site-packages/sklearn/linear_model/logistic.py:460: FutureWarning: Default multi_class will be changed to 'auto' in 0.22. Specify the multi_class option to silence this warning.\n",
      "  \"this warning.\", FutureWarning)\n"
     ]
    },
    {
     "data": {
      "text/plain": [
       "LogisticRegression(C=1.0, class_weight=None, dual=False, fit_intercept=True,\n",
       "          intercept_scaling=1, max_iter=100, multi_class='warn',\n",
       "          n_jobs=None, penalty='l2', random_state=None, solver='warn',\n",
       "          tol=0.0001, verbose=0, warm_start=False)"
      ]
     },
     "execution_count": 109,
     "metadata": {},
     "output_type": "execute_result"
    }
   ],
   "source": [
    "logisticRegr.fit(X_train, y_train)"
   ]
  },
  {
   "cell_type": "code",
   "execution_count": 110,
   "metadata": {},
   "outputs": [
    {
     "data": {
      "text/plain": [
       "array(['Crew Brew', 'Crew Brew', 'Crew Brew', 'Crew Brew', 'Crew Brew'], dtype=object)"
      ]
     },
     "execution_count": 110,
     "metadata": {},
     "output_type": "execute_result"
    }
   ],
   "source": [
    "logisticRegr.predict(X_test)"
   ]
  },
  {
   "cell_type": "code",
   "execution_count": null,
   "metadata": {},
   "outputs": [],
   "source": []
  }
 ],
 "metadata": {
  "kernelspec": {
   "display_name": "Python 3",
   "language": "python",
   "name": "python3"
  },
  "language_info": {
   "codemirror_mode": {
    "name": "ipython",
    "version": 3
   },
   "file_extension": ".py",
   "mimetype": "text/x-python",
   "name": "python",
   "nbconvert_exporter": "python",
   "pygments_lexer": "ipython3",
   "version": "3.6.7"
  }
 },
 "nbformat": 4,
 "nbformat_minor": 2
}
