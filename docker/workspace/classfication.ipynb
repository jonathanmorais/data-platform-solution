{
 "cells": [
  {
   "cell_type": "code",
   "execution_count": 88,
   "metadata": {},
   "outputs": [],
   "source": [
    "import pandas as pd\n",
    "import matplotlib.pyplot as plt\n",
    "import seaborn as sns\n",
    "import boto3\n",
    "import os\n",
    "import time\n",
    "import io\n",
    "import pyathena as cz\n",
    "from pyathena.pandas_cursor import PandasCursor\n",
    "import sklearn\n",
    "from sklearn.model_selection import train_test_split\n",
    "from sklearn.naive_bayes import GaussianNB"
   ]
  },
  {
   "cell_type": "code",
   "execution_count": 74,
   "metadata": {},
   "outputs": [],
   "source": [
    "# s3 = boto3.resource('s3')\n",
    "athena_conection = \"athena.us-east-1.amazonaws.com\"\n",
    "region_name = ('us-east-1')\n",
    "db = \"ml_platform_events\""
   ]
  },
  {
   "cell_type": "code",
   "execution_count": 75,
   "metadata": {},
   "outputs": [],
   "source": [
    "athena_client   = boto3.client('athena', region_name='us-east-1', aws_access_key_id=os.environ['ACCESS_KEY'],\n",
    "                            aws_secret_access_key=os.environ['ACCESS_SECRET_KEY'])\n",
    "\n",
    "s3_resource   = boto3.resource('s3', region_name='us-east-1', aws_access_key_id=os.environ['ACCESS_KEY'],\n",
    "                            aws_secret_access_key=os.environ['ACCESS_SECRET_KEY'])"
   ]
  },
  {
   "cell_type": "code",
   "execution_count": 78,
   "metadata": {},
   "outputs": [],
   "source": [
    "def athena_query_to_dataframe(db, query):\n",
    "    \n",
    "    listOfStatus = ['SUCCEEDED', 'FAILED', 'CANCELLED']\n",
    "    listOfInitialStatus = ['RUNNING', 'QUEUED']\n",
    "    \n",
    "    print('Starting Query Execution:')\n",
    "       \n",
    "    response = athena_client.start_query_execution(\n",
    "        QueryString = query,\n",
    "        QueryExecutionContext = {\n",
    "            'Database': db\n",
    "        },\n",
    "        ResultConfiguration = {\n",
    "            'OutputLocation': 's3://personal-us-east-1/query-result/',\n",
    "        }\n",
    "    )\n",
    "\n",
    "    queryExecutionId = response['QueryExecutionId']\n",
    "\n",
    "    status = athena_client.get_query_execution(QueryExecutionId = queryExecutionId)['QueryExecution']['Status']['State']\n",
    "\n",
    "    while status in listOfInitialStatus:\n",
    "        status = athena_client.get_query_execution(QueryExecutionId = queryExecutionId)['QueryExecution']['Status']['State']\n",
    "        if status in listOfStatus:\n",
    "            if status == 'SUCCEEDED':\n",
    "                print('Query Succeeded!')\n",
    "                paginator = athena_client.get_paginator('get_query_results')\n",
    "                query_results = paginator.paginate(\n",
    "                    QueryExecutionId = queryExecutionId,\n",
    "                    PaginationConfig = {'PageSize': 1000}\n",
    "                )\n",
    "            elif status == 'FAILED':\n",
    "                print('Query Failed!')\n",
    "            elif status == 'CANCELLED':\n",
    "                print('Query Cancelled!')\n",
    "            break\n",
    "    \n",
    "    results = []\n",
    "    rows = []\n",
    "    \n",
    "    print('Processing Response')\n",
    "    \n",
    "    for page in query_results:\n",
    "        for row in page['ResultSet']['Rows']:\n",
    "            rows.append(row['Data'])\n",
    "\n",
    "    columns = rows[0]\n",
    "    rows = rows[1:]\n",
    "\n",
    "    columns_list = []\n",
    "    for column in columns:\n",
    "        columns_list.append(column['VarCharValue'])\n",
    "        \n",
    "    print('Creating Dataframe')\n",
    "\n",
    "    dataframe = pd.DataFrame(columns = columns_list)\n",
    "\n",
    "    for row in rows:\n",
    "        df_row = []\n",
    "        for data in row:\n",
    "            df_row.append(data['VarCharValue'])\n",
    "        dataframe.loc[len(dataframe)] = df_row\n",
    "    \n",
    "        \n",
    "    print('Done!')\n",
    "    \n",
    "    return(dataframe)"
   ]
  },
  {
   "cell_type": "code",
   "execution_count": 104,
   "metadata": {},
   "outputs": [
    {
     "name": "stdout",
     "output_type": "stream",
     "text": [
      "Starting Query Execution:\n",
      "Query Succeeded!\n",
      "Processing Response\n",
      "Creating Dataframe\n",
      "Done!\n"
     ]
    }
   ],
   "source": [
    "df = athena_query_to_dataframe(db, \"select * from ml_platform_events.event_punkapi\")"
   ]
  },
  {
   "cell_type": "code",
   "execution_count": 106,
   "metadata": {},
   "outputs": [],
   "source": [
    "df = df.drop(['index', 'id'], axis=1)"
   ]
  },
  {
   "cell_type": "code",
   "execution_count": 107,
   "metadata": {},
   "outputs": [
    {
     "data": {
      "text/html": [
       "<div>\n",
       "<style scoped>\n",
       "    .dataframe tbody tr th:only-of-type {\n",
       "        vertical-align: middle;\n",
       "    }\n",
       "\n",
       "    .dataframe tbody tr th {\n",
       "        vertical-align: top;\n",
       "    }\n",
       "\n",
       "    .dataframe thead th {\n",
       "        text-align: right;\n",
       "    }\n",
       "</style>\n",
       "<table border=\"1\" class=\"dataframe\">\n",
       "  <thead>\n",
       "    <tr style=\"text-align: right;\">\n",
       "      <th></th>\n",
       "      <th>name</th>\n",
       "      <th>abv</th>\n",
       "      <th>ibu</th>\n",
       "      <th>target_fg</th>\n",
       "      <th>target_og</th>\n",
       "      <th>ebc</th>\n",
       "      <th>srm</th>\n",
       "      <th>ph</th>\n",
       "    </tr>\n",
       "  </thead>\n",
       "  <tbody>\n",
       "    <tr>\n",
       "      <th>0</th>\n",
       "      <td>Galaxy</td>\n",
       "      <td>6.7</td>\n",
       "      <td>67</td>\n",
       "      <td>1064</td>\n",
       "      <td>1013</td>\n",
       "      <td>19</td>\n",
       "      <td>9.5</td>\n",
       "      <td>4.4</td>\n",
       "    </tr>\n",
       "    <tr>\n",
       "      <th>1</th>\n",
       "      <td>10 Heads High</td>\n",
       "      <td>7.8</td>\n",
       "      <td>70</td>\n",
       "      <td>1015</td>\n",
       "      <td>1074</td>\n",
       "      <td>90</td>\n",
       "      <td>45</td>\n",
       "      <td>4.4</td>\n",
       "    </tr>\n",
       "    <tr>\n",
       "      <th>2</th>\n",
       "      <td>Lumberjack Stout</td>\n",
       "      <td>15.2</td>\n",
       "      <td>20</td>\n",
       "      <td>1020</td>\n",
       "      <td>1110</td>\n",
       "      <td>158</td>\n",
       "      <td>79</td>\n",
       "      <td>4.4</td>\n",
       "    </tr>\n",
       "    <tr>\n",
       "      <th>3</th>\n",
       "      <td>Neon Overlord</td>\n",
       "      <td>7.6</td>\n",
       "      <td>70</td>\n",
       "      <td>1012</td>\n",
       "      <td>1067</td>\n",
       "      <td>20</td>\n",
       "      <td>10</td>\n",
       "      <td>4.4</td>\n",
       "    </tr>\n",
       "    <tr>\n",
       "      <th>4</th>\n",
       "      <td>Ship Wreck</td>\n",
       "      <td>13.8</td>\n",
       "      <td>60</td>\n",
       "      <td>1015</td>\n",
       "      <td>1088</td>\n",
       "      <td>25</td>\n",
       "      <td>13</td>\n",
       "      <td>4.4</td>\n",
       "    </tr>\n",
       "  </tbody>\n",
       "</table>\n",
       "</div>"
      ],
      "text/plain": [
       "               name   abv ibu target_fg target_og  ebc  srm   ph\n",
       "0            Galaxy   6.7  67      1064      1013   19  9.5  4.4\n",
       "1     10 Heads High   7.8  70      1015      1074   90   45  4.4\n",
       "2  Lumberjack Stout  15.2  20      1020      1110  158   79  4.4\n",
       "3     Neon Overlord   7.6  70      1012      1067   20   10  4.4\n",
       "4        Ship Wreck  13.8  60      1015      1088   25   13  4.4"
      ]
     },
     "execution_count": 107,
     "metadata": {},
     "output_type": "execute_result"
    }
   ],
   "source": [
    "df.head()"
   ]
  },
  {
   "cell_type": "code",
   "execution_count": 109,
   "metadata": {},
   "outputs": [],
   "source": [
    "X = df.drop('ibu', axis=1)\n",
    "y = df['ibu']"
   ]
  },
  {
   "cell_type": "code",
   "execution_count": null,
   "metadata": {},
   "outputs": [],
   "source": [
    "train_test_split(X,y,test_size=0.33,random_state=42)"
   ]
  },
  {
   "cell_type": "code",
   "execution_count": null,
   "metadata": {},
   "outputs": [],
   "source": [
    "X_train, X_test, y_train, y_test = train_test_split(X, y, test_size=0.33, random_state=42)"
   ]
  }
 ],
 "metadata": {
  "kernelspec": {
   "display_name": "Python 3",
   "language": "python",
   "name": "python3"
  },
  "language_info": {
   "codemirror_mode": {
    "name": "ipython",
    "version": 3
   },
   "file_extension": ".py",
   "mimetype": "text/x-python",
   "name": "python",
   "nbconvert_exporter": "python",
   "pygments_lexer": "ipython3",
   "version": "3.6.7"
  }
 },
 "nbformat": 4,
 "nbformat_minor": 2
}
