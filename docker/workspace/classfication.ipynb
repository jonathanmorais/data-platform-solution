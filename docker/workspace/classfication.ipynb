{
 "cells": [
  {
   "cell_type": "code",
   "execution_count": 110,
   "metadata": {},
   "outputs": [],
   "source": [
    "import pandas as pd\n",
    "import matplotlib.pyplot as plt\n",
    "import seaborn as sns\n",
    "import boto3\n",
    "import os\n",
    "import time\n",
    "import io\n",
    "import pyathena as cz\n",
    "from pyathena.pandas_cursor import PandasCursor\n",
    "import sklearn\n",
    "from sklearn.model_selection import train_test_split\n",
    "from sklearn.linear_model import LogisticRegression\n",
    "from sklearn.metrics import jaccard_similarity_score as jss # evaluation metric\n",
    "from sklearn.metrics import precision_score # evaluation metric\n",
    "from sklearn.metrics import classification_report # evaluation metric\n",
    "from sklearn.metrics import confusion_matrix # evaluation metric\n",
    "from sklearn.metrics import log_loss # evaluation metric\n",
    "import pickle"
   ]
  },
  {
   "cell_type": "code",
   "execution_count": 102,
   "metadata": {},
   "outputs": [],
   "source": [
    "# s3 = boto3.resource('s3')\n",
    "athena_conection = \"athena.us-east-1.amazonaws.com\"\n",
    "region_name = ('us-east-1')\n",
    "db = \"ml_platform_events\""
   ]
  },
  {
   "cell_type": "code",
   "execution_count": 103,
   "metadata": {},
   "outputs": [],
   "source": [
    "athena_client   = boto3.client('athena', region_name='us-east-1', aws_access_key_id=os.environ['ACCESS_KEY'],\n",
    "                            aws_secret_access_key=os.environ['ACCESS_SECRET_KEY'])\n",
    "\n",
    "s3_resource   = boto3.resource('s3', region_name='us-east-1', aws_access_key_id=os.environ['ACCESS_KEY'],\n",
    "                            aws_secret_access_key=os.environ['ACCESS_SECRET_KEY'])"
   ]
  },
  {
   "cell_type": "raw",
   "metadata": {},
   "source": [
    "def athena_query_to_dataframe(db, query):\n",
    "    \n",
    "    listOfStatus = ['SUCCEEDED', 'FAILED', 'CANCELLED']\n",
    "    listOfInitialStatus = ['RUNNING', 'QUEUED']\n",
    "    \n",
    "    print('Starting Query Execution:')\n",
    "       \n",
    "    response = athena_client.start_query_execution(\n",
    "        QueryString = query,\n",
    "        QueryExecutionContext = {\n",
    "            'Database': db\n",
    "        },\n",
    "        ResultConfiguration = {\n",
    "            'OutputLocation': 's3://personal-us-east-1/query-result/',\n",
    "        }\n",
    "    )\n",
    "\n",
    "    queryExecutionId = response['QueryExecutionId']\n",
    "\n",
    "    status = athena_client.get_query_execution(QueryExecutionId = queryExecutionId)['QueryExecution']['Status']['State']\n",
    "\n",
    "    while status in listOfInitialStatus:\n",
    "        status = athena_client.get_query_execution(QueryExecutionId = queryExecutionId)['QueryExecution']['Status']['State']\n",
    "        if status in listOfStatus:\n",
    "            if status == 'SUCCEEDED':\n",
    "                print('Query Succeeded!')\n",
    "                paginator = athena_client.get_paginator('get_query_results')\n",
    "                query_results = paginator.paginate(\n",
    "                    QueryExecutionId = queryExecutionId,\n",
    "                    PaginationConfig = {'PageSize': 1000}\n",
    "                )\n",
    "            elif status == 'FAILED':\n",
    "                print('Query Failed!')\n",
    "            elif status == 'CANCELLED':\n",
    "                print('Query Cancelled!')\n",
    "            break\n",
    "    \n",
    "    results = []\n",
    "    rows = []\n",
    "    \n",
    "    print('Processing Response')\n",
    "    \n",
    "    for page in query_results:\n",
    "        for row in page['ResultSet']['Rows']:\n",
    "            rows.append(row['Data'])\n",
    "\n",
    "    columns = rows[0]\n",
    "    rows = rows[1:]\n",
    "\n",
    "    columns_list = []\n",
    "    for column in columns:\n",
    "        columns_list.append(column['VarCharValue'])\n",
    "        \n",
    "    print('Creating Dataframe')\n",
    "\n",
    "    dataframe = pd.DataFrame(columns = columns_list)\n",
    "\n",
    "    for row in rows:\n",
    "        df_row = []\n",
    "        for data in row:\n",
    "            df_row.append(data['VarCharValue'])\n",
    "        dataframe.loc[len(dataframe)] = df_row\n",
    "    \n",
    "        \n",
    "    print('Done!')\n",
    "    \n",
    "    return(dataframe)"
   ]
  },
  {
   "cell_type": "code",
   "execution_count": 81,
   "metadata": {},
   "outputs": [
    {
     "name": "stdout",
     "output_type": "stream",
     "text": [
      "Starting Query Execution:\n",
      "Query Succeeded!\n",
      "Processing Response\n",
      "Creating Dataframe\n"
     ]
    },
    {
     "ename": "KeyError",
     "evalue": "'VarCharValue'",
     "output_type": "error",
     "traceback": [
      "\u001b[0;31m---------------------------------------------------------------------------\u001b[0m",
      "\u001b[0;31mKeyError\u001b[0m                                  Traceback (most recent call last)",
      "\u001b[0;32m<ipython-input-81-c026ef7125a7>\u001b[0m in \u001b[0;36m<module>\u001b[0;34m\u001b[0m\n\u001b[0;32m----> 1\u001b[0;31m \u001b[0mdf\u001b[0m \u001b[0;34m=\u001b[0m \u001b[0mathena_query_to_dataframe\u001b[0m\u001b[0;34m(\u001b[0m\u001b[0mdb\u001b[0m\u001b[0;34m,\u001b[0m \u001b[0;34m\"select * from ml_platform_events.cleaned_punkapi\"\u001b[0m\u001b[0;34m)\u001b[0m\u001b[0;34m\u001b[0m\u001b[0;34m\u001b[0m\u001b[0m\n\u001b[0m",
      "\u001b[0;32m<ipython-input-80-1f521a043fef>\u001b[0m in \u001b[0;36mathena_query_to_dataframe\u001b[0;34m(db, query)\u001b[0m\n\u001b[1;32m     59\u001b[0m         \u001b[0mdf_row\u001b[0m \u001b[0;34m=\u001b[0m \u001b[0;34m[\u001b[0m\u001b[0;34m]\u001b[0m\u001b[0;34m\u001b[0m\u001b[0;34m\u001b[0m\u001b[0m\n\u001b[1;32m     60\u001b[0m         \u001b[0;32mfor\u001b[0m \u001b[0mdata\u001b[0m \u001b[0;32min\u001b[0m \u001b[0mrow\u001b[0m\u001b[0;34m:\u001b[0m\u001b[0;34m\u001b[0m\u001b[0;34m\u001b[0m\u001b[0m\n\u001b[0;32m---> 61\u001b[0;31m             \u001b[0mdf_row\u001b[0m\u001b[0;34m.\u001b[0m\u001b[0mappend\u001b[0m\u001b[0;34m(\u001b[0m\u001b[0mdata\u001b[0m\u001b[0;34m[\u001b[0m\u001b[0;34m'VarCharValue'\u001b[0m\u001b[0;34m]\u001b[0m\u001b[0;34m)\u001b[0m\u001b[0;34m\u001b[0m\u001b[0;34m\u001b[0m\u001b[0m\n\u001b[0m\u001b[1;32m     62\u001b[0m         \u001b[0mdataframe\u001b[0m\u001b[0;34m.\u001b[0m\u001b[0mloc\u001b[0m\u001b[0;34m[\u001b[0m\u001b[0mlen\u001b[0m\u001b[0;34m(\u001b[0m\u001b[0mdataframe\u001b[0m\u001b[0;34m)\u001b[0m\u001b[0;34m]\u001b[0m \u001b[0;34m=\u001b[0m \u001b[0mdf_row\u001b[0m\u001b[0;34m\u001b[0m\u001b[0;34m\u001b[0m\u001b[0m\n\u001b[1;32m     63\u001b[0m \u001b[0;34m\u001b[0m\u001b[0m\n",
      "\u001b[0;31mKeyError\u001b[0m: 'VarCharValue'"
     ]
    }
   ],
   "source": [
    "df = athena_query_to_dataframe(db, \"select * from ml_platform_events.cleaned_punkapi\")"
   ]
  },
  {
   "cell_type": "code",
   "execution_count": 104,
   "metadata": {},
   "outputs": [
    {
     "data": {
      "text/html": [
       "<div>\n",
       "<style scoped>\n",
       "    .dataframe tbody tr th:only-of-type {\n",
       "        vertical-align: middle;\n",
       "    }\n",
       "\n",
       "    .dataframe tbody tr th {\n",
       "        vertical-align: top;\n",
       "    }\n",
       "\n",
       "    .dataframe thead th {\n",
       "        text-align: right;\n",
       "    }\n",
       "</style>\n",
       "<table border=\"1\" class=\"dataframe\">\n",
       "  <thead>\n",
       "    <tr style=\"text-align: right;\">\n",
       "      <th></th>\n",
       "      <th>id</th>\n",
       "      <th>name</th>\n",
       "      <th>abv</th>\n",
       "      <th>ibu</th>\n",
       "      <th>target_fg</th>\n",
       "      <th>target_og</th>\n",
       "      <th>ebc</th>\n",
       "      <th>srm</th>\n",
       "      <th>ph</th>\n",
       "    </tr>\n",
       "  </thead>\n",
       "  <tbody>\n",
       "    <tr>\n",
       "      <th>0</th>\n",
       "      <td>120</td>\n",
       "      <td>AB:10</td>\n",
       "      <td>11.5</td>\n",
       "      <td>80.0</td>\n",
       "      <td>1020</td>\n",
       "      <td>1096</td>\n",
       "      <td>115.0</td>\n",
       "      <td>57.5</td>\n",
       "      <td>4.4</td>\n",
       "    </tr>\n",
       "    <tr>\n",
       "      <th>1</th>\n",
       "      <td>325</td>\n",
       "      <td>Zipcode</td>\n",
       "      <td>5.0</td>\n",
       "      <td>37.0</td>\n",
       "      <td>1006</td>\n",
       "      <td>1044</td>\n",
       "      <td>5.0</td>\n",
       "      <td>3.0</td>\n",
       "      <td>4.4</td>\n",
       "    </tr>\n",
       "    <tr>\n",
       "      <th>2</th>\n",
       "      <td>239</td>\n",
       "      <td>#Mashtag 2016</td>\n",
       "      <td>10.5</td>\n",
       "      <td>100.0</td>\n",
       "      <td>1010</td>\n",
       "      <td>1090</td>\n",
       "      <td>15.0</td>\n",
       "      <td>8.0</td>\n",
       "      <td>4.4</td>\n",
       "    </tr>\n",
       "    <tr>\n",
       "      <th>3</th>\n",
       "      <td>48</td>\n",
       "      <td>Goldings - IPA Is Dead</td>\n",
       "      <td>6.7</td>\n",
       "      <td>70.0</td>\n",
       "      <td>1015</td>\n",
       "      <td>1066</td>\n",
       "      <td>30.0</td>\n",
       "      <td>15.0</td>\n",
       "      <td>4.4</td>\n",
       "    </tr>\n",
       "    <tr>\n",
       "      <th>4</th>\n",
       "      <td>309</td>\n",
       "      <td>Paradox Islay 2018</td>\n",
       "      <td>13.5</td>\n",
       "      <td>100.0</td>\n",
       "      <td>1015</td>\n",
       "      <td>1112</td>\n",
       "      <td>300.0</td>\n",
       "      <td>152.0</td>\n",
       "      <td>4.4</td>\n",
       "    </tr>\n",
       "  </tbody>\n",
       "</table>\n",
       "</div>"
      ],
      "text/plain": [
       "    id                    name   abv    ibu target_fg target_og    ebc    srm  \\\n",
       "0  120                   AB:10  11.5   80.0      1020      1096  115.0   57.5   \n",
       "1  325                 Zipcode   5.0   37.0      1006      1044    5.0    3.0   \n",
       "2  239           #Mashtag 2016  10.5  100.0      1010      1090   15.0    8.0   \n",
       "3   48  Goldings - IPA Is Dead   6.7   70.0      1015      1066   30.0   15.0   \n",
       "4  309      Paradox Islay 2018  13.5  100.0      1015      1112  300.0  152.0   \n",
       "\n",
       "    ph  \n",
       "0  4.4  \n",
       "1  4.4  \n",
       "2  4.4  \n",
       "3  4.4  \n",
       "4  4.4  "
      ]
     },
     "execution_count": 104,
     "metadata": {},
     "output_type": "execute_result"
    }
   ],
   "source": [
    "df.head()"
   ]
  },
  {
   "cell_type": "code",
   "execution_count": 108,
   "metadata": {},
   "outputs": [],
   "source": [
    "def preditc_classfication():\n",
    "    model = LogisticRegression()\n",
    "    \n",
    "    X = df[['abv', 'target_fg', 'target_og', 'ebc', 'srm', 'ph']]\n",
    "    y = df['ibu']\n",
    "    \n",
    "    X_train, X_test, y_train, y_test = train_test_split(X, y, test_size=0.33)\n",
    "    \n",
    "    model.fit(X_train, y_train)\n",
    "    \n",
    "    lr_predict = logisticRegr.predict(X_test)\n",
    "    lr_proba = logisticRegr.predict_proba(X_test)\n",
    "    \n",
    "    print('Jaccard Similarity Score of our model is {}'.format(jss(y_test, lr_predict).round(2)))\n",
    "    \n",
    "    ## save on local\n",
    "    filename = 'model_punkbeer.sav'\n",
    "    pickle.dump(model, open(filename, 'wb'))\n",
    "    \n",
    "    return lr_predict"
   ]
  },
  {
   "cell_type": "code",
   "execution_count": 111,
   "metadata": {},
   "outputs": [
    {
     "name": "stdout",
     "output_type": "stream",
     "text": [
      "Jaccard Similarity Score of our model is 0.5\n",
      "['70.0' '85.0' '65.0' '80.0']\n"
     ]
    },
    {
     "name": "stderr",
     "output_type": "stream",
     "text": [
      "/opt/conda/lib/python3.6/site-packages/sklearn/linear_model/logistic.py:433: FutureWarning: Default solver will be changed to 'lbfgs' in 0.22. Specify a solver to silence this warning.\n",
      "  FutureWarning)\n",
      "/opt/conda/lib/python3.6/site-packages/sklearn/linear_model/logistic.py:460: FutureWarning: Default multi_class will be changed to 'auto' in 0.22. Specify the multi_class option to silence this warning.\n",
      "  \"this warning.\", FutureWarning)\n"
     ]
    }
   ],
   "source": [
    "p = preditc_classfication()\n",
    "print(p)"
   ]
  }
 ],
 "metadata": {
  "kernelspec": {
   "display_name": "Python 3",
   "language": "python",
   "name": "python3"
  },
  "language_info": {
   "codemirror_mode": {
    "name": "ipython",
    "version": 3
   },
   "file_extension": ".py",
   "mimetype": "text/x-python",
   "name": "python",
   "nbconvert_exporter": "python",
   "pygments_lexer": "ipython3",
   "version": "3.6.7"
  }
 },
 "nbformat": 4,
 "nbformat_minor": 2
}
