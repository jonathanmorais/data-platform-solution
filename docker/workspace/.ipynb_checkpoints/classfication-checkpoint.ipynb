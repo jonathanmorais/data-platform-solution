{
 "cells": [
  {
   "cell_type": "code",
   "execution_count": 31,
   "metadata": {},
   "outputs": [
    {
     "ename": "ModuleNotFoundError",
     "evalue": "No module named 'awswrangler'",
     "output_type": "error",
     "traceback": [
      "\u001b[0;31m---------------------------------------------------------------------------\u001b[0m",
      "\u001b[0;31mModuleNotFoundError\u001b[0m                       Traceback (most recent call last)",
      "\u001b[0;32m<ipython-input-31-7ba70c1497c1>\u001b[0m in \u001b[0;36m<module>\u001b[0;34m\u001b[0m\n\u001b[1;32m     19\u001b[0m \u001b[0;32mimport\u001b[0m \u001b[0mpickle\u001b[0m\u001b[0;34m\u001b[0m\u001b[0;34m\u001b[0m\u001b[0m\n\u001b[1;32m     20\u001b[0m \u001b[0;32mimport\u001b[0m \u001b[0mtime\u001b[0m\u001b[0;34m\u001b[0m\u001b[0;34m\u001b[0m\u001b[0m\n\u001b[0;32m---> 21\u001b[0;31m \u001b[0;32mimport\u001b[0m \u001b[0mawswrangler\u001b[0m \u001b[0;32mas\u001b[0m \u001b[0mwgl\u001b[0m\u001b[0;34m\u001b[0m\u001b[0;34m\u001b[0m\u001b[0m\n\u001b[0m",
      "\u001b[0;31mModuleNotFoundError\u001b[0m: No module named 'awswrangler'"
     ]
    }
   ],
   "source": [
    "import pandas as pd\n",
    "import matplotlib.pyplot as plt\n",
    "import seaborn as sns\n",
    "import boto3\n",
    "import os\n",
    "import time\n",
    "import io\n",
    "import json\n",
    "import pyathena as cz\n",
    "from pyathena.pandas_cursor import PandasCursor\n",
    "import sklearn\n",
    "from sklearn.model_selection import train_test_split\n",
    "from sklearn.linear_model import LogisticRegression\n",
    "from sklearn.metrics import jaccard_similarity_score as jss # evaluation metric\n",
    "from sklearn.metrics import precision_score # evaluation metric\n",
    "from sklearn.metrics import classification_report # evaluation metric\n",
    "from sklearn.metrics import confusion_matrix # evaluation metric\n",
    "from sklearn.metrics import log_loss # evaluation metric\n",
    "import pickle\n",
    "import time\n",
    "import awswrangler as wgl"
   ]
  },
  {
   "cell_type": "code",
   "execution_count": null,
   "metadata": {},
   "outputs": [],
   "source": [
    "# s3 = boto3.resource('s3')\n",
    "athena_conection = \"athena.us-east-1.amazonaws.com\"\n",
    "region_name = ('us-east-1')"
   ]
  },
  {
   "cell_type": "code",
   "execution_count": 20,
   "metadata": {},
   "outputs": [],
   "source": [
    "client   = boto3.client('athena', region_name='us-east-1', aws_access_key_id=os.environ['ACCESS_KEY'],\n",
    "                            aws_secret_access_key=os.environ['ACCESS_SECRET_KEY'])\n",
    "\n",
    "s3_resource   = boto3.resource('s3', region_name='us-east-1', aws_access_key_id=os.environ['ACCESS_KEY'],\n",
    "                            aws_secret_access_key=os.environ['ACCESS_SECRET_KEY'])"
   ]
  },
  {
   "cell_type": "code",
   "execution_count": 47,
   "metadata": {},
   "outputs": [],
   "source": [
    "def athena_query_to_dataframe(db, s3Bucket, query):\n",
    "    \n",
    "    import boto3\n",
    "    import pandas as pd\n",
    "    \n",
    "    listOfStatus = ['SUCCEEDED', 'FAILED', 'CANCELLED']\n",
    "    listOfInitialStatus = ['RUNNING', 'QUEUED']\n",
    "    \n",
    "    print('Starting Query Execution:')\n",
    "    \n",
    "    tempS3Path = 's3://{}'.format(s3Bucket)\n",
    "    \n",
    "    response = client.start_query_execution(\n",
    "        QueryString = query,\n",
    "        QueryExecutionContext = {\n",
    "            'Database': db\n",
    "        },\n",
    "        ResultConfiguration = {\n",
    "            'OutputLocation': tempS3Path,\n",
    "        }\n",
    "    )\n",
    "\n",
    "    queryExecutionId = response['QueryExecutionId']\n",
    "\n",
    "    status = client.get_query_execution(QueryExecutionId = queryExecutionId)['QueryExecution']['Status']['State']\n",
    "\n",
    "    while status in listOfInitialStatus:\n",
    "        status = client.get_query_execution(QueryExecutionId = queryExecutionId)['QueryExecution']['Status']['State']\n",
    "        if status in listOfStatus:\n",
    "            if status == 'SUCCEEDED':\n",
    "                print('Query Succeeded!')\n",
    "                paginator = client.get_paginator('get_query_results')\n",
    "                query_results = paginator.paginate(\n",
    "                    QueryExecutionId = queryExecutionId,\n",
    "                    PaginationConfig = {'PageSize': 1000}\n",
    "                )\n",
    "            elif status == 'FAILED':\n",
    "                print('Query Failed!')\n",
    "            elif status == 'CANCELLED':\n",
    "                print('Query Cancelled!')\n",
    "            break\n",
    "    \n",
    "    results = []\n",
    "    rows = []\n",
    "    \n",
    "    print('Processing Response')\n",
    "    \n",
    "    for page in query_results:\n",
    "        for row in page['ResultSet']['Rows']:\n",
    "            rows.append(row['Data'])\n",
    "\n",
    "    columns = rows[0]\n",
    "    rows = rows[1:]\n",
    "\n",
    "    columns_list = []\n",
    "    for column in columns:\n",
    "        columns_list.append(column['VarCharValue'])\n",
    "        \n",
    "    print('Creating Dataframe')\n",
    "\n",
    "    dataframe = pd.DataFrame(columns = columns_list)\n",
    "\n",
    "    for row in rows:\n",
    "        df_row = []\n",
    "        try:\n",
    "            for data in row:\n",
    "                df_row.append(data['VarCharValue'])\n",
    "            dataframe.loc[len(dataframe)] = df_row\n",
    "        except:\n",
    "            pass\n",
    "        \n",
    "    return dataframe  "
   ]
  },
  {
   "cell_type": "code",
   "execution_count": 48,
   "metadata": {},
   "outputs": [
    {
     "name": "stdout",
     "output_type": "stream",
     "text": [
      "Starting Query Execution:\n",
      "Query Succeeded!\n",
      "Processing Response\n",
      "Creating Dataframe\n"
     ]
    }
   ],
   "source": [
    "df = athena_query_to_dataframe(\"ml_platform_events\", \"personal-us-east-1/query-result/\" ,\"select * from ml_platform_events.cleaned_punkapi\")"
   ]
  },
  {
   "cell_type": "code",
   "execution_count": 49,
   "metadata": {},
   "outputs": [
    {
     "data": {
      "text/html": [
       "<div>\n",
       "<style scoped>\n",
       "    .dataframe tbody tr th:only-of-type {\n",
       "        vertical-align: middle;\n",
       "    }\n",
       "\n",
       "    .dataframe tbody tr th {\n",
       "        vertical-align: top;\n",
       "    }\n",
       "\n",
       "    .dataframe thead th {\n",
       "        text-align: right;\n",
       "    }\n",
       "</style>\n",
       "<table border=\"1\" class=\"dataframe\">\n",
       "  <thead>\n",
       "    <tr style=\"text-align: right;\">\n",
       "      <th></th>\n",
       "      <th>id</th>\n",
       "      <th>name</th>\n",
       "      <th>abv</th>\n",
       "      <th>ibu</th>\n",
       "      <th>target_fg</th>\n",
       "      <th>target_og</th>\n",
       "      <th>ebc</th>\n",
       "      <th>srm</th>\n",
       "      <th>ph</th>\n",
       "    </tr>\n",
       "  </thead>\n",
       "  <tbody>\n",
       "    <tr>\n",
       "      <th>0</th>\n",
       "      <td>159</td>\n",
       "      <td>Black Tokyo Horizon (w/Nøgne Ø &amp; Mikkeller)</td>\n",
       "      <td>17.2</td>\n",
       "      <td>75.0</td>\n",
       "      <td>1030</td>\n",
       "      <td>1156</td>\n",
       "      <td>128.0</td>\n",
       "      <td>64.0</td>\n",
       "      <td>4.4</td>\n",
       "    </tr>\n",
       "    <tr>\n",
       "      <th>1</th>\n",
       "      <td>165</td>\n",
       "      <td>Barley Wine - Russian Doll</td>\n",
       "      <td>10.0</td>\n",
       "      <td>80.0</td>\n",
       "      <td>1020</td>\n",
       "      <td>1097</td>\n",
       "      <td>65.0</td>\n",
       "      <td>32.5</td>\n",
       "      <td>4.4</td>\n",
       "    </tr>\n",
       "    <tr>\n",
       "      <th>2</th>\n",
       "      <td>203</td>\n",
       "      <td>Bitch Please (w/ 3 Floyds)</td>\n",
       "      <td>11.5</td>\n",
       "      <td>50.0</td>\n",
       "      <td>1016</td>\n",
       "      <td>1104</td>\n",
       "      <td>38.0</td>\n",
       "      <td>19.0</td>\n",
       "      <td>4.4</td>\n",
       "    </tr>\n",
       "    <tr>\n",
       "      <th>3</th>\n",
       "      <td>25</td>\n",
       "      <td>Bad Pixie</td>\n",
       "      <td>4.7</td>\n",
       "      <td>45.0</td>\n",
       "      <td>1010</td>\n",
       "      <td>1047</td>\n",
       "      <td>8.0</td>\n",
       "      <td>4.0</td>\n",
       "      <td>4.4</td>\n",
       "    </tr>\n",
       "    <tr>\n",
       "      <th>4</th>\n",
       "      <td>275</td>\n",
       "      <td>Sidewalk Shark</td>\n",
       "      <td>5.2</td>\n",
       "      <td>22.0</td>\n",
       "      <td>1008</td>\n",
       "      <td>1055</td>\n",
       "      <td>7.0</td>\n",
       "      <td>4.0</td>\n",
       "      <td>3.8</td>\n",
       "    </tr>\n",
       "  </tbody>\n",
       "</table>\n",
       "</div>"
      ],
      "text/plain": [
       "    id                                         name   abv   ibu target_fg  \\\n",
       "0  159  Black Tokyo Horizon (w/Nøgne Ø & Mikkeller)  17.2  75.0      1030   \n",
       "1  165                   Barley Wine - Russian Doll  10.0  80.0      1020   \n",
       "2  203                   Bitch Please (w/ 3 Floyds)  11.5  50.0      1016   \n",
       "3   25                                    Bad Pixie   4.7  45.0      1010   \n",
       "4  275                               Sidewalk Shark   5.2  22.0      1008   \n",
       "\n",
       "  target_og    ebc   srm   ph  \n",
       "0      1156  128.0  64.0  4.4  \n",
       "1      1097   65.0  32.5  4.4  \n",
       "2      1104   38.0  19.0  4.4  \n",
       "3      1047    8.0   4.0  4.4  \n",
       "4      1055    7.0   4.0  3.8  "
      ]
     },
     "execution_count": 49,
     "metadata": {},
     "output_type": "execute_result"
    }
   ],
   "source": [
    "df.head()"
   ]
  },
  {
   "cell_type": "code",
   "execution_count": 53,
   "metadata": {},
   "outputs": [],
   "source": [
    "def trainning_classfication():\n",
    "    model = LogisticRegression()\n",
    "        \n",
    "    X = df[['abv', 'target_fg', 'target_og', 'ebc', 'srm', 'ph']]\n",
    "    y = df['ibu']\n",
    "    \n",
    "    output = []\n",
    "    \n",
    "    X_train, X_test, y_train, y_test = train_test_split(X, y, test_size=0.33)\n",
    "    \n",
    "    model.fit(X_train, y_train)\n",
    "    \n",
    "#     lr_predict = logisticRegr.predict(X_test)\n",
    "#     lr_proba = logisticRegr.predict_proba(X_test)\n",
    "    \n",
    "#     print('Jaccard Similarity Score of our model is {}'.format(jss(y_test, lr_predict).round(2)))\n",
    "    \n",
    "    ## save on local\n",
    "    filename = 'model_punkbeer.pkl'\n",
    "    pickle.dump(model, open(filename, 'wb'))\n",
    "\n",
    "    metadata = {\n",
    "        'model': json.dumps(model.__class__.__name__),\n",
    "        'path': filename\n",
    "    }\n",
    "    \n",
    "    m = json.dumps(metadata)\n",
    "    \n",
    "    fh = open(\"metadata.json\", 'w')\n",
    "    json.dump(m, fh)\n",
    "    \n",
    "    return metadata"
   ]
  },
  {
   "cell_type": "code",
   "execution_count": 54,
   "metadata": {},
   "outputs": [
    {
     "name": "stdout",
     "output_type": "stream",
     "text": [
      "{'model': '\"LogisticRegression\"', 'path': 'model_punkbeer.pkl'}\n"
     ]
    },
    {
     "name": "stderr",
     "output_type": "stream",
     "text": [
      "/opt/conda/lib/python3.6/site-packages/sklearn/linear_model/logistic.py:433: FutureWarning: Default solver will be changed to 'lbfgs' in 0.22. Specify a solver to silence this warning.\n",
      "  FutureWarning)\n",
      "/opt/conda/lib/python3.6/site-packages/sklearn/linear_model/logistic.py:460: FutureWarning: Default multi_class will be changed to 'auto' in 0.22. Specify the multi_class option to silence this warning.\n",
      "  \"this warning.\", FutureWarning)\n"
     ]
    }
   ],
   "source": [
    "p = trainning_classfication()\n",
    "print(p)"
   ]
  },
  {
   "cell_type": "code",
   "execution_count": null,
   "metadata": {},
   "outputs": [],
   "source": []
  },
  {
   "cell_type": "code",
   "execution_count": null,
   "metadata": {},
   "outputs": [],
   "source": []
  }
 ],
 "metadata": {
  "kernelspec": {
   "display_name": "Python 3",
   "language": "python",
   "name": "python3"
  },
  "language_info": {
   "codemirror_mode": {
    "name": "ipython",
    "version": 3
   },
   "file_extension": ".py",
   "mimetype": "text/x-python",
   "name": "python",
   "nbconvert_exporter": "python",
   "pygments_lexer": "ipython3",
   "version": "3.6.7"
  }
 },
 "nbformat": 4,
 "nbformat_minor": 2
}
